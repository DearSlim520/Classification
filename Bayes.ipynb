{
 "cells": [
  {
   "cell_type": "code",
   "execution_count": 258,
   "metadata": {},
   "outputs": [],
   "source": [
    "#coding:utf-8\n",
    "import numpy as np\n",
    "import matplotlib.pyplot as plt\n",
    "import pandas as pd\n",
    "from sklearn.model_selection import train_test_split\n",
    "from collections import Counter\n",
    "import random "
   ]
  },
  {
   "cell_type": "code",
   "execution_count": 259,
   "metadata": {},
   "outputs": [],
   "source": [
    "# 1. 数据预处理\n",
    "\n",
    "def getTrainSet():\n",
    "    \n",
    "    #1-读数据存入list中\n",
    "    df = pd.read_excel('Iris.xlsx',encoding =\"utf-8\")\n",
    "    sl=df['sepal_length'].values.tolist()\n",
    "    sw=df['sepal_width'].values.tolist()\n",
    "    fl=df['flower_length'].values.tolist()\n",
    "    fw=df['flower_width'].values.tolist()\n",
    "    c=df['classify'].values.tolist()\n",
    "    \n",
    "    ori_set = []\n",
    "    for a,b,c,d,e in zip(sl,sw,fl,fw,c):\n",
    "        tmp = [a,b,c,d,e]\n",
    "        ori_set.append(tmp)\n",
    "    ori_set = np.array(ori_set)\n",
    "    random.shuffle(ori_set) \n",
    "    \n",
    "    #2-留出法分割训练数据与测试数据\n",
    "    train = ori_set[:120     ,:ori_set.shape[1]-1]\n",
    "    labels = ori_set[:120    ,ori_set.shape[1]-1]\n",
    "    testData = ori_set[120:  ,:ori_set.shape[1]-1]\n",
    "    testLabels = ori_set[12:,ori_set.shape[1]-1]\n",
    "\n",
    "    return train, labels, testData, testLabels\n",
    "\n",
    "train, labels, testData, testLabels = getTrainSet()"
   ]
  },
  {
   "cell_type": "code",
   "execution_count": 260,
   "metadata": {},
   "outputs": [],
   "source": [
    "def predict(train, labels, each):\n",
    "    \n",
    "    # 先验概率\n",
    "    P_c = Counter(labels)\n",
    "    name_list = ['Iris-setosa','Iris-versicolor','Iris-virginica']\n",
    "    for i in range(3):\n",
    "        P_c[name_list[i]] = P_c.get(name_list[i]) /float(len(labels))\n",
    "\n",
    "    #条件概率\n",
    "    P_xc = {}\n",
    "    P = {}\n",
    "    for y in P_c.keys():\n",
    "        yi = [i for i, label in enumerate(labels) if label == y]\n",
    "        for j in range(len(each)):\n",
    "            xi = [i for i, e in enumerate(train[:,j]) if e == each[j]]\n",
    "            index = str(each[j]) + ':' + str(y)\n",
    "            P_xc[index] = len(set(xi) & set(yi)) / len(labels)\n",
    "        for x in each:\n",
    "            index = str(x) + '|' + str(y)\n",
    "            P[index] = P_xc[str(x) + ':' + str(y)] / float(P_c[y])\n",
    "\n",
    "    #计算所有标签的可能概率，将最大概率对象返回作为预测结果\n",
    "    prob_list = P_c.copy()\n",
    "    for y in P_c:\n",
    "        for x in each:\n",
    "            prob_list[y] *= P[str(x)+'|'+str(y)]\n",
    "\n",
    "    return max(prob_list, key = prob_list.get)"
   ]
  },
  {
   "cell_type": "code",
   "execution_count": 261,
   "metadata": {},
   "outputs": [],
   "source": [
    "# 3.测试：\n",
    "\n",
    "def cal_accuracy(train, labels, testData, testLabels):\n",
    "    correct = 0\n",
    "    for each,eva in zip(testData,testLabels):\n",
    "        predict_result = predict(train, labels, each)             #传入测试\n",
    "        \n",
    "        #正误判断\n",
    "        if predict_result == eva:\n",
    "            correct += 1\n",
    "    accuracy = correct/float(len(testData))\n",
    "    print('accuracy : ',accuracy * 100, '%')\n"
   ]
  },
  {
   "cell_type": "code",
   "execution_count": 262,
   "metadata": {},
   "outputs": [
    {
     "name": "stdout",
     "output_type": "stream",
     "text": [
      "accuracy :  83.33333333333334 %\n"
     ]
    }
   ],
   "source": [
    "cal_accuracy(train, labels, testData, testLabels)"
   ]
  }
 ],
 "metadata": {
  "kernelspec": {
   "display_name": "Python 3",
   "language": "python",
   "name": "python3"
  },
  "language_info": {
   "codemirror_mode": {
    "name": "ipython",
    "version": 3
   },
   "file_extension": ".py",
   "mimetype": "text/x-python",
   "name": "python",
   "nbconvert_exporter": "python",
   "pygments_lexer": "ipython3",
   "version": "3.7.4"
  }
 },
 "nbformat": 4,
 "nbformat_minor": 2
}
